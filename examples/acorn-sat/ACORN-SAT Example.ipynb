{
 "cells": [
  {
   "cell_type": "markdown",
   "metadata": {},
   "source": [
    "ACORN-SAT Example\n",
    "==\n",
    "\n",
    "In this example we demonstrate creating a PhilDB instance and loading the Australian Bureau of Meteorology 'Australian Climate Observations Reference Network – Surface Air Temperature' (ACORN-SAT) data set for analysis.\n",
    "\n",
    "First up, some imports:"
   ]
  },
  {
   "cell_type": "code",
   "execution_count": 1,
   "metadata": {
    "collapsed": true
   },
   "outputs": [],
   "source": [
    "import pandas as pd\n",
    "import numpy as np\n",
    "%matplotlib inline\n",
    "from matplotlib import pyplot as plt"
   ]
  },
  {
   "cell_type": "markdown",
   "metadata": {},
   "source": [
    "Create a new PhilDB database\n",
    "--\n",
    "\n",
    "The next snippet shows how to create a PhilDB database using the create method. Alternate to the following code the commandline phil-create method could be used (e.g `phil-create acorn_sat`)."
   ]
  },
  {
   "cell_type": "code",
   "execution_count": 2,
   "metadata": {
    "collapsed": true
   },
   "outputs": [],
   "source": [
    "from phildb.create import create\n",
    "create('acorn_sat')"
   ]
  },
  {
   "cell_type": "code",
   "execution_count": 3,
   "metadata": {
    "collapsed": false
   },
   "outputs": [
    {
     "data": {
      "text/html": [
       "<div>\n",
       "<table border=\"1\" class=\"dataframe\">\n",
       "  <thead>\n",
       "    <tr style=\"text-align: right;\">\n",
       "      <th></th>\n",
       "      <th>stn_num</th>\n",
       "      <th>stn_name</th>\n",
       "      <th>lat</th>\n",
       "      <th>lon</th>\n",
       "      <th>elevation</th>\n",
       "      <th>start</th>\n",
       "      <th>station_id</th>\n",
       "    </tr>\n",
       "  </thead>\n",
       "  <tbody>\n",
       "    <tr>\n",
       "      <th>0</th>\n",
       "      <td>1019</td>\n",
       "      <td>Kalumburu</td>\n",
       "      <td>-14.30</td>\n",
       "      <td>126.65</td>\n",
       "      <td>23</td>\n",
       "      <td>1941</td>\n",
       "      <td>001019</td>\n",
       "    </tr>\n",
       "    <tr>\n",
       "      <th>1</th>\n",
       "      <td>2012</td>\n",
       "      <td>Halls Creek</td>\n",
       "      <td>-18.23</td>\n",
       "      <td>127.66</td>\n",
       "      <td>422</td>\n",
       "      <td>1910</td>\n",
       "      <td>002012</td>\n",
       "    </tr>\n",
       "    <tr>\n",
       "      <th>2</th>\n",
       "      <td>3003</td>\n",
       "      <td>Broome Airport</td>\n",
       "      <td>-17.95</td>\n",
       "      <td>122.24</td>\n",
       "      <td>7</td>\n",
       "      <td>1910</td>\n",
       "      <td>003003</td>\n",
       "    </tr>\n",
       "    <tr>\n",
       "      <th>3</th>\n",
       "      <td>4032</td>\n",
       "      <td>Port Hedland</td>\n",
       "      <td>-20.37</td>\n",
       "      <td>118.63</td>\n",
       "      <td>6</td>\n",
       "      <td>1912</td>\n",
       "      <td>004032</td>\n",
       "    </tr>\n",
       "    <tr>\n",
       "      <th>4</th>\n",
       "      <td>4106</td>\n",
       "      <td>Marble Bar</td>\n",
       "      <td>-21.18</td>\n",
       "      <td>119.75</td>\n",
       "      <td>182</td>\n",
       "      <td>1910</td>\n",
       "      <td>004106</td>\n",
       "    </tr>\n",
       "  </tbody>\n",
       "</table>\n",
       "</div>"
      ],
      "text/plain": [
       "   stn_num        stn_name    lat     lon  elevation  start station_id\n",
       "0     1019       Kalumburu -14.30  126.65         23   1941     001019\n",
       "1     2012     Halls Creek -18.23  127.66        422   1910     002012\n",
       "2     3003  Broome Airport -17.95  122.24          7   1910     003003\n",
       "3     4032    Port Hedland -20.37  118.63          6   1912     004032\n",
       "4     4106      Marble Bar -21.18  119.75        182   1910     004106"
      ]
     },
     "execution_count": 3,
     "metadata": {},
     "output_type": "execute_result"
    }
   ],
   "source": [
    "# Get station list as a Pandas DataFrame\n",
    "station_list = pd.read_csv('http://www.bom.gov.au/climate/change/acorn-sat/map/stations-acorn-sat.txt')\n",
    "\n",
    "# Create a station_id column from the stn_num column that has zero left-padded IDs to match URLs\n",
    "station_list['station_id'] = station_list['stn_num'].apply(lambda x: '{0:06d}'.format(x))\n",
    "station_list.head()"
   ]
  },
  {
   "cell_type": "markdown",
   "metadata": {},
   "source": [
    "Accessing a PhilDB instance\n",
    "--\n",
    "\n",
    "Once a PhilDB database has been created it can be accessed using the PhilDB database class.\n",
    "Which after being imported can be used to create a database instance\n",
    "(which is stored in the 'db' variable here) as follows:"
   ]
  },
  {
   "cell_type": "code",
   "execution_count": 4,
   "metadata": {
    "collapsed": false
   },
   "outputs": [],
   "source": [
    "from phildb.database import PhilDB\n",
    "db = PhilDB('acorn_sat')"
   ]
  },
  {
   "cell_type": "markdown",
   "metadata": {},
   "source": [
    "Initialise source and measurand attributes\n",
    "--\n",
    "Now that we have created and connected to the 'acorn_sat' PhilDB we can initialise source and measurand attributes for identifying temperature time series instances."
   ]
  },
  {
   "cell_type": "code",
   "execution_count": 5,
   "metadata": {
    "collapsed": true
   },
   "outputs": [],
   "source": [
    "source = 'BOM_ACORN_SAT'\n",
    "frequency = 'D'\n",
    "\n",
    "db.add_measurand('maxT', 'MAXIMUM_TEMPERATURE', 'Maximum Temperature')\n",
    "db.add_measurand('minT', 'MINIMUM_TEMPERATURE', 'Minimum Temperature')\n",
    "db.add_source(source, 'Bureau of Meteorology; Australian Climate Observation Reference Network - Surface Air Temperature dataset.')"
   ]
  },
  {
   "cell_type": "markdown",
   "metadata": {},
   "source": [
    "Download and load data\n",
    "--\n",
    "Use pandas to read each of the data files directly from the Bureau of Meterology website before writing into the PhilDB.\n",
    "\n",
    "Data source: http://www.bom.gov.au/climate/change/acorn-sat/"
   ]
  },
  {
   "cell_type": "code",
   "execution_count": 6,
   "metadata": {
    "collapsed": false
   },
   "outputs": [
    {
     "name": "stdout",
     "output_type": "stream",
     "text": [
      "Adding timeseries ID: 001019\n",
      "Loading time series file: http://www.bom.gov.au/climate/change/acorn/sat/data/acorn.sat.minT.001019.daily.txt\n",
      "Loading time series file: http://www.bom.gov.au/climate/change/acorn/sat/data/acorn.sat.maxT.001019.daily.txt\n",
      "Adding timeseries ID: 002012\n",
      "Loading time series file: http://www.bom.gov.au/climate/change/acorn/sat/data/acorn.sat.minT.002012.daily.txt\n",
      "Loading time series file: http://www.bom.gov.au/climate/change/acorn/sat/data/acorn.sat.maxT.002012.daily.txt\n",
      "Adding timeseries ID: 003003\n",
      "Loading time series file: http://www.bom.gov.au/climate/change/acorn/sat/data/acorn.sat.minT.003003.daily.txt\n",
      "Loading time series file: http://www.bom.gov.au/climate/change/acorn/sat/data/acorn.sat.maxT.003003.daily.txt\n",
      "Adding timeseries ID: 004032\n",
      "Loading time series file: http://www.bom.gov.au/climate/change/acorn/sat/data/acorn.sat.minT.004032.daily.txt\n",
      "Loading time series file: http://www.bom.gov.au/climate/change/acorn/sat/data/acorn.sat.maxT.004032.daily.txt\n",
      "Adding timeseries ID: 004106\n",
      "Loading time series file: http://www.bom.gov.au/climate/change/acorn/sat/data/acorn.sat.minT.004106.daily.txt\n",
      "Loading time series file: http://www.bom.gov.au/climate/change/acorn/sat/data/acorn.sat.maxT.004106.daily.txt\n",
      "Adding timeseries ID: 005007\n",
      "Loading time series file: http://www.bom.gov.au/climate/change/acorn/sat/data/acorn.sat.minT.005007.daily.txt\n",
      "Loading time series file: http://www.bom.gov.au/climate/change/acorn/sat/data/acorn.sat.maxT.005007.daily.txt\n",
      "Adding timeseries ID: 005026\n",
      "Loading time series file: http://www.bom.gov.au/climate/change/acorn/sat/data/acorn.sat.minT.005026.daily.txt\n",
      "Loading time series file: http://www.bom.gov.au/climate/change/acorn/sat/data/acorn.sat.maxT.005026.daily.txt\n",
      "Adding timeseries ID: 006011\n",
      "Loading time series file: http://www.bom.gov.au/climate/change/acorn/sat/data/acorn.sat.minT.006011.daily.txt\n",
      "Loading time series file: http://www.bom.gov.au/climate/change/acorn/sat/data/acorn.sat.maxT.006011.daily.txt\n",
      "Adding timeseries ID: 007045\n",
      "Loading time series file: http://www.bom.gov.au/climate/change/acorn/sat/data/acorn.sat.minT.007045.daily.txt\n",
      "Loading time series file: http://www.bom.gov.au/climate/change/acorn/sat/data/acorn.sat.maxT.007045.daily.txt\n",
      "Adding timeseries ID: 008039\n",
      "Loading time series file: http://www.bom.gov.au/climate/change/acorn/sat/data/acorn.sat.minT.008039.daily.txt\n",
      "Loading time series file: http://www.bom.gov.au/climate/change/acorn/sat/data/acorn.sat.maxT.008039.daily.txt\n",
      "Adding timeseries ID: 008051\n",
      "Loading time series file: http://www.bom.gov.au/climate/change/acorn/sat/data/acorn.sat.minT.008051.daily.txt\n",
      "Loading time series file: http://www.bom.gov.au/climate/change/acorn/sat/data/acorn.sat.maxT.008051.daily.txt\n",
      "Adding timeseries ID: 008296\n",
      "Loading time series file: http://www.bom.gov.au/climate/change/acorn/sat/data/acorn.sat.minT.008296.daily.txt\n",
      "Loading time series file: http://www.bom.gov.au/climate/change/acorn/sat/data/acorn.sat.maxT.008296.daily.txt\n",
      "Adding timeseries ID: 009021\n",
      "Loading time series file: http://www.bom.gov.au/climate/change/acorn/sat/data/acorn.sat.minT.009021.daily.txt\n",
      "Loading time series file: http://www.bom.gov.au/climate/change/acorn/sat/data/acorn.sat.maxT.009021.daily.txt\n",
      "Adding timeseries ID: 009510\n",
      "Loading time series file: http://www.bom.gov.au/climate/change/acorn/sat/data/acorn.sat.minT.009510.daily.txt\n",
      "Loading time series file: http://www.bom.gov.au/climate/change/acorn/sat/data/acorn.sat.maxT.009510.daily.txt\n",
      "Adding timeseries ID: 009518\n",
      "Loading time series file: http://www.bom.gov.au/climate/change/acorn/sat/data/acorn.sat.minT.009518.daily.txt\n",
      "Loading time series file: http://www.bom.gov.au/climate/change/acorn/sat/data/acorn.sat.maxT.009518.daily.txt\n",
      "Adding timeseries ID: 009741\n",
      "Loading time series file: http://www.bom.gov.au/climate/change/acorn/sat/data/acorn.sat.minT.009741.daily.txt\n",
      "Loading time series file: http://www.bom.gov.au/climate/change/acorn/sat/data/acorn.sat.maxT.009741.daily.txt\n",
      "Adding timeseries ID: 009789\n",
      "Loading time series file: http://www.bom.gov.au/climate/change/acorn/sat/data/acorn.sat.minT.009789.daily.txt\n",
      "Loading time series file: http://www.bom.gov.au/climate/change/acorn/sat/data/acorn.sat.maxT.009789.daily.txt\n",
      "Adding timeseries ID: 010092\n",
      "Loading time series file: http://www.bom.gov.au/climate/change/acorn/sat/data/acorn.sat.minT.010092.daily.txt\n",
      "Loading time series file: http://www.bom.gov.au/climate/change/acorn/sat/data/acorn.sat.maxT.010092.daily.txt\n",
      "Adding timeseries ID: 010286\n",
      "Loading time series file: http://www.bom.gov.au/climate/change/acorn/sat/data/acorn.sat.minT.010286.daily.txt\n",
      "Loading time series file: http://www.bom.gov.au/climate/change/acorn/sat/data/acorn.sat.maxT.010286.daily.txt\n",
      "Adding timeseries ID: 010579\n",
      "Loading time series file: http://www.bom.gov.au/climate/change/acorn/sat/data/acorn.sat.minT.010579.daily.txt\n",
      "Loading time series file: http://www.bom.gov.au/climate/change/acorn/sat/data/acorn.sat.maxT.010579.daily.txt\n",
      "Adding timeseries ID: 010917\n",
      "Loading time series file: http://www.bom.gov.au/climate/change/acorn/sat/data/acorn.sat.minT.010917.daily.txt\n",
      "Loading time series file: http://www.bom.gov.au/climate/change/acorn/sat/data/acorn.sat.maxT.010917.daily.txt\n",
      "Adding timeseries ID: 011003\n",
      "Loading time series file: http://www.bom.gov.au/climate/change/acorn/sat/data/acorn.sat.minT.011003.daily.txt\n",
      "Loading time series file: http://www.bom.gov.au/climate/change/acorn/sat/data/acorn.sat.maxT.011003.daily.txt\n",
      "Adding timeseries ID: 011052\n",
      "Loading time series file: http://www.bom.gov.au/climate/change/acorn/sat/data/acorn.sat.minT.011052.daily.txt\n",
      "Loading time series file: http://www.bom.gov.au/climate/change/acorn/sat/data/acorn.sat.maxT.011052.daily.txt\n",
      "Adding timeseries ID: 012038\n",
      "Loading time series file: http://www.bom.gov.au/climate/change/acorn/sat/data/acorn.sat.minT.012038.daily.txt\n",
      "Loading time series file: http://www.bom.gov.au/climate/change/acorn/sat/data/acorn.sat.maxT.012038.daily.txt\n",
      "Adding timeseries ID: 013017\n",
      "Loading time series file: http://www.bom.gov.au/climate/change/acorn/sat/data/acorn.sat.minT.013017.daily.txt\n",
      "Loading time series file: http://www.bom.gov.au/climate/change/acorn/sat/data/acorn.sat.maxT.013017.daily.txt\n",
      "Adding timeseries ID: 014015\n",
      "Loading time series file: http://www.bom.gov.au/climate/change/acorn/sat/data/acorn.sat.minT.014015.daily.txt\n",
      "Loading time series file: http://www.bom.gov.au/climate/change/acorn/sat/data/acorn.sat.maxT.014015.daily.txt\n",
      "Adding timeseries ID: 014825\n",
      "Loading time series file: http://www.bom.gov.au/climate/change/acorn/sat/data/acorn.sat.minT.014825.daily.txt\n",
      "Loading time series file: http://www.bom.gov.au/climate/change/acorn/sat/data/acorn.sat.maxT.014825.daily.txt\n",
      "Adding timeseries ID: 015135\n",
      "Loading time series file: http://www.bom.gov.au/climate/change/acorn/sat/data/acorn.sat.minT.015135.daily.txt\n",
      "Loading time series file: http://www.bom.gov.au/climate/change/acorn/sat/data/acorn.sat.maxT.015135.daily.txt\n",
      "Adding timeseries ID: 015590\n",
      "Loading time series file: http://www.bom.gov.au/climate/change/acorn/sat/data/acorn.sat.minT.015590.daily.txt\n",
      "Loading time series file: http://www.bom.gov.au/climate/change/acorn/sat/data/acorn.sat.maxT.015590.daily.txt\n",
      "Adding timeseries ID: 015666\n",
      "Loading time series file: http://www.bom.gov.au/climate/change/acorn/sat/data/acorn.sat.minT.015666.daily.txt\n",
      "Loading time series file: http://www.bom.gov.au/climate/change/acorn/sat/data/acorn.sat.maxT.015666.daily.txt\n",
      "Adding timeseries ID: 016001\n",
      "Loading time series file: http://www.bom.gov.au/climate/change/acorn/sat/data/acorn.sat.minT.016001.daily.txt\n",
      "Loading time series file: http://www.bom.gov.au/climate/change/acorn/sat/data/acorn.sat.maxT.016001.daily.txt\n",
      "Adding timeseries ID: 016098\n",
      "Loading time series file: http://www.bom.gov.au/climate/change/acorn/sat/data/acorn.sat.minT.016098.daily.txt\n",
      "Loading time series file: http://www.bom.gov.au/climate/change/acorn/sat/data/acorn.sat.maxT.016098.daily.txt\n",
      "Adding timeseries ID: 017031\n",
      "Loading time series file: http://www.bom.gov.au/climate/change/acorn/sat/data/acorn.sat.minT.017031.daily.txt\n",
      "Loading time series file: http://www.bom.gov.au/climate/change/acorn/sat/data/acorn.sat.maxT.017031.daily.txt\n",
      "Adding timeseries ID: 017043\n",
      "Loading time series file: http://www.bom.gov.au/climate/change/acorn/sat/data/acorn.sat.minT.017043.daily.txt\n",
      "Loading time series file: http://www.bom.gov.au/climate/change/acorn/sat/data/acorn.sat.maxT.017043.daily.txt\n",
      "Adding timeseries ID: 018012\n",
      "Loading time series file: http://www.bom.gov.au/climate/change/acorn/sat/data/acorn.sat.minT.018012.daily.txt\n",
      "Loading time series file: http://www.bom.gov.au/climate/change/acorn/sat/data/acorn.sat.maxT.018012.daily.txt\n",
      "Adding timeseries ID: 018044\n",
      "Loading time series file: http://www.bom.gov.au/climate/change/acorn/sat/data/acorn.sat.minT.018044.daily.txt\n",
      "Loading time series file: http://www.bom.gov.au/climate/change/acorn/sat/data/acorn.sat.maxT.018044.daily.txt\n",
      "Adding timeseries ID: 018192\n",
      "Loading time series file: http://www.bom.gov.au/climate/change/acorn/sat/data/acorn.sat.minT.018192.daily.txt\n",
      "Loading time series file: http://www.bom.gov.au/climate/change/acorn/sat/data/acorn.sat.maxT.018192.daily.txt\n",
      "Adding timeseries ID: 021133\n",
      "Loading time series file: http://www.bom.gov.au/climate/change/acorn/sat/data/acorn.sat.minT.021133.daily.txt\n",
      "Loading time series file: http://www.bom.gov.au/climate/change/acorn/sat/data/acorn.sat.maxT.021133.daily.txt\n",
      "Adding timeseries ID: 022823\n",
      "Loading time series file: http://www.bom.gov.au/climate/change/acorn/sat/data/acorn.sat.minT.022823.daily.txt\n",
      "Loading time series file: http://www.bom.gov.au/climate/change/acorn/sat/data/acorn.sat.maxT.022823.daily.txt\n",
      "Adding timeseries ID: 023090\n",
      "Loading time series file: http://www.bom.gov.au/climate/change/acorn/sat/data/acorn.sat.minT.023090.daily.txt\n",
      "Loading time series file: http://www.bom.gov.au/climate/change/acorn/sat/data/acorn.sat.maxT.023090.daily.txt\n",
      "Adding timeseries ID: 023373\n",
      "Loading time series file: http://www.bom.gov.au/climate/change/acorn/sat/data/acorn.sat.minT.023373.daily.txt\n",
      "Loading time series file: http://www.bom.gov.au/climate/change/acorn/sat/data/acorn.sat.maxT.023373.daily.txt\n",
      "Adding timeseries ID: 026021\n",
      "Loading time series file: http://www.bom.gov.au/climate/change/acorn/sat/data/acorn.sat.minT.026021.daily.txt\n",
      "Loading time series file: http://www.bom.gov.au/climate/change/acorn/sat/data/acorn.sat.maxT.026021.daily.txt\n",
      "Adding timeseries ID: 026026\n",
      "Loading time series file: http://www.bom.gov.au/climate/change/acorn/sat/data/acorn.sat.minT.026026.daily.txt\n",
      "Loading time series file: http://www.bom.gov.au/climate/change/acorn/sat/data/acorn.sat.maxT.026026.daily.txt\n",
      "Adding timeseries ID: 027045\n",
      "Loading time series file: http://www.bom.gov.au/climate/change/acorn/sat/data/acorn.sat.minT.027045.daily.txt\n",
      "Loading time series file: http://www.bom.gov.au/climate/change/acorn/sat/data/acorn.sat.maxT.027045.daily.txt\n",
      "Adding timeseries ID: 027058\n",
      "Loading time series file: http://www.bom.gov.au/climate/change/acorn/sat/data/acorn.sat.minT.027058.daily.txt\n",
      "Loading time series file: http://www.bom.gov.au/climate/change/acorn/sat/data/acorn.sat.maxT.027058.daily.txt\n",
      "Adding timeseries ID: 028004\n",
      "Loading time series file: http://www.bom.gov.au/climate/change/acorn/sat/data/acorn.sat.minT.028004.daily.txt\n",
      "Loading time series file: http://www.bom.gov.au/climate/change/acorn/sat/data/acorn.sat.maxT.028004.daily.txt\n",
      "Adding timeseries ID: 029063\n",
      "Loading time series file: http://www.bom.gov.au/climate/change/acorn/sat/data/acorn.sat.minT.029063.daily.txt\n",
      "Loading time series file: http://www.bom.gov.au/climate/change/acorn/sat/data/acorn.sat.maxT.029063.daily.txt\n",
      "Adding timeseries ID: 029077\n",
      "Loading time series file: http://www.bom.gov.au/climate/change/acorn/sat/data/acorn.sat.minT.029077.daily.txt\n",
      "Loading time series file: http://www.bom.gov.au/climate/change/acorn/sat/data/acorn.sat.maxT.029077.daily.txt\n",
      "Adding timeseries ID: 030045\n",
      "Loading time series file: http://www.bom.gov.au/climate/change/acorn/sat/data/acorn.sat.minT.030045.daily.txt\n",
      "Loading time series file: http://www.bom.gov.au/climate/change/acorn/sat/data/acorn.sat.maxT.030045.daily.txt\n",
      "Adding timeseries ID: 030124\n",
      "Loading time series file: http://www.bom.gov.au/climate/change/acorn/sat/data/acorn.sat.minT.030124.daily.txt\n",
      "Loading time series file: http://www.bom.gov.au/climate/change/acorn/sat/data/acorn.sat.maxT.030124.daily.txt\n",
      "Adding timeseries ID: 031011\n",
      "Loading time series file: http://www.bom.gov.au/climate/change/acorn/sat/data/acorn.sat.minT.031011.daily.txt\n",
      "Loading time series file: http://www.bom.gov.au/climate/change/acorn/sat/data/acorn.sat.maxT.031011.daily.txt\n",
      "Adding timeseries ID: 032040\n",
      "Loading time series file: http://www.bom.gov.au/climate/change/acorn/sat/data/acorn.sat.minT.032040.daily.txt\n",
      "Loading time series file: http://www.bom.gov.au/climate/change/acorn/sat/data/acorn.sat.maxT.032040.daily.txt\n",
      "Adding timeseries ID: 033119\n",
      "Loading time series file: http://www.bom.gov.au/climate/change/acorn/sat/data/acorn.sat.minT.033119.daily.txt\n",
      "Loading time series file: http://www.bom.gov.au/climate/change/acorn/sat/data/acorn.sat.maxT.033119.daily.txt\n",
      "Adding timeseries ID: 034084\n",
      "Loading time series file: http://www.bom.gov.au/climate/change/acorn/sat/data/acorn.sat.minT.034084.daily.txt\n",
      "Loading time series file: http://www.bom.gov.au/climate/change/acorn/sat/data/acorn.sat.maxT.034084.daily.txt\n",
      "Adding timeseries ID: 036007\n",
      "Loading time series file: http://www.bom.gov.au/climate/change/acorn/sat/data/acorn.sat.minT.036007.daily.txt\n",
      "Loading time series file: http://www.bom.gov.au/climate/change/acorn/sat/data/acorn.sat.maxT.036007.daily.txt\n",
      "Adding timeseries ID: 036031\n",
      "Loading time series file: http://www.bom.gov.au/climate/change/acorn/sat/data/acorn.sat.minT.036031.daily.txt\n",
      "Loading time series file: http://www.bom.gov.au/climate/change/acorn/sat/data/acorn.sat.maxT.036031.daily.txt\n",
      "Adding timeseries ID: 037010\n",
      "Loading time series file: http://www.bom.gov.au/climate/change/acorn/sat/data/acorn.sat.minT.037010.daily.txt\n",
      "Loading time series file: http://www.bom.gov.au/climate/change/acorn/sat/data/acorn.sat.maxT.037010.daily.txt\n",
      "Adding timeseries ID: 038003\n",
      "Loading time series file: http://www.bom.gov.au/climate/change/acorn/sat/data/acorn.sat.minT.038003.daily.txt\n",
      "Loading time series file: http://www.bom.gov.au/climate/change/acorn/sat/data/acorn.sat.maxT.038003.daily.txt\n",
      "Adding timeseries ID: 038026\n",
      "Loading time series file: http://www.bom.gov.au/climate/change/acorn/sat/data/acorn.sat.minT.038026.daily.txt\n",
      "Loading time series file: http://www.bom.gov.au/climate/change/acorn/sat/data/acorn.sat.maxT.038026.daily.txt\n",
      "Adding timeseries ID: 039066\n",
      "Loading time series file: http://www.bom.gov.au/climate/change/acorn/sat/data/acorn.sat.minT.039066.daily.txt\n",
      "Loading time series file: http://www.bom.gov.au/climate/change/acorn/sat/data/acorn.sat.maxT.039066.daily.txt\n",
      "Adding timeseries ID: 039083\n",
      "Loading time series file: http://www.bom.gov.au/climate/change/acorn/sat/data/acorn.sat.minT.039083.daily.txt\n",
      "Loading time series file: http://www.bom.gov.au/climate/change/acorn/sat/data/acorn.sat.maxT.039083.daily.txt\n",
      "Adding timeseries ID: 039128\n",
      "Loading time series file: http://www.bom.gov.au/climate/change/acorn/sat/data/acorn.sat.minT.039128.daily.txt\n",
      "Loading time series file: http://www.bom.gov.au/climate/change/acorn/sat/data/acorn.sat.maxT.039128.daily.txt\n",
      "Adding timeseries ID: 040004\n",
      "Loading time series file: http://www.bom.gov.au/climate/change/acorn/sat/data/acorn.sat.minT.040004.daily.txt\n",
      "Loading time series file: http://www.bom.gov.au/climate/change/acorn/sat/data/acorn.sat.maxT.040004.daily.txt\n",
      "Adding timeseries ID: 040043\n",
      "Loading time series file: http://www.bom.gov.au/climate/change/acorn/sat/data/acorn.sat.minT.040043.daily.txt\n",
      "Loading time series file: http://www.bom.gov.au/climate/change/acorn/sat/data/acorn.sat.maxT.040043.daily.txt\n",
      "Adding timeseries ID: 040842\n",
      "Loading time series file: http://www.bom.gov.au/climate/change/acorn/sat/data/acorn.sat.minT.040842.daily.txt\n",
      "Loading time series file: http://www.bom.gov.au/climate/change/acorn/sat/data/acorn.sat.maxT.040842.daily.txt\n",
      "Adding timeseries ID: 042112\n",
      "Loading time series file: http://www.bom.gov.au/climate/change/acorn/sat/data/acorn.sat.minT.042112.daily.txt\n",
      "Loading time series file: http://www.bom.gov.au/climate/change/acorn/sat/data/acorn.sat.maxT.042112.daily.txt\n",
      "Adding timeseries ID: 043109\n",
      "Loading time series file: http://www.bom.gov.au/climate/change/acorn/sat/data/acorn.sat.minT.043109.daily.txt\n",
      "Loading time series file: http://www.bom.gov.au/climate/change/acorn/sat/data/acorn.sat.maxT.043109.daily.txt\n",
      "Adding timeseries ID: 044021\n",
      "Loading time series file: http://www.bom.gov.au/climate/change/acorn/sat/data/acorn.sat.minT.044021.daily.txt\n",
      "Loading time series file: http://www.bom.gov.au/climate/change/acorn/sat/data/acorn.sat.maxT.044021.daily.txt\n",
      "Adding timeseries ID: 045025\n",
      "Loading time series file: http://www.bom.gov.au/climate/change/acorn/sat/data/acorn.sat.minT.045025.daily.txt\n",
      "Loading time series file: http://www.bom.gov.au/climate/change/acorn/sat/data/acorn.sat.maxT.045025.daily.txt\n",
      "Adding timeseries ID: 046037\n",
      "Loading time series file: http://www.bom.gov.au/climate/change/acorn/sat/data/acorn.sat.minT.046037.daily.txt\n",
      "Loading time series file: http://www.bom.gov.au/climate/change/acorn/sat/data/acorn.sat.maxT.046037.daily.txt\n",
      "Adding timeseries ID: 046043\n",
      "Loading time series file: http://www.bom.gov.au/climate/change/acorn/sat/data/acorn.sat.minT.046043.daily.txt\n",
      "Loading time series file: http://www.bom.gov.au/climate/change/acorn/sat/data/acorn.sat.maxT.046043.daily.txt\n",
      "Adding timeseries ID: 048027\n",
      "Loading time series file: http://www.bom.gov.au/climate/change/acorn/sat/data/acorn.sat.minT.048027.daily.txt\n",
      "Loading time series file: http://www.bom.gov.au/climate/change/acorn/sat/data/acorn.sat.maxT.048027.daily.txt\n",
      "Adding timeseries ID: 048245\n",
      "Loading time series file: http://www.bom.gov.au/climate/change/acorn/sat/data/acorn.sat.minT.048245.daily.txt\n",
      "Loading time series file: http://www.bom.gov.au/climate/change/acorn/sat/data/acorn.sat.maxT.048245.daily.txt\n",
      "Adding timeseries ID: 052088\n",
      "Loading time series file: http://www.bom.gov.au/climate/change/acorn/sat/data/acorn.sat.minT.052088.daily.txt\n",
      "Loading time series file: http://www.bom.gov.au/climate/change/acorn/sat/data/acorn.sat.maxT.052088.daily.txt\n",
      "Adding timeseries ID: 053115\n",
      "Loading time series file: http://www.bom.gov.au/climate/change/acorn/sat/data/acorn.sat.minT.053115.daily.txt\n",
      "Loading time series file: http://www.bom.gov.au/climate/change/acorn/sat/data/acorn.sat.maxT.053115.daily.txt\n",
      "Adding timeseries ID: 055024\n",
      "Loading time series file: http://www.bom.gov.au/climate/change/acorn/sat/data/acorn.sat.minT.055024.daily.txt\n",
      "Loading time series file: http://www.bom.gov.au/climate/change/acorn/sat/data/acorn.sat.maxT.055024.daily.txt\n",
      "Adding timeseries ID: 056242\n",
      "Loading time series file: http://www.bom.gov.au/climate/change/acorn/sat/data/acorn.sat.minT.056242.daily.txt\n",
      "Loading time series file: http://www.bom.gov.au/climate/change/acorn/sat/data/acorn.sat.maxT.056242.daily.txt\n",
      "Adding timeseries ID: 058012\n",
      "Loading time series file: http://www.bom.gov.au/climate/change/acorn/sat/data/acorn.sat.minT.058012.daily.txt\n",
      "Loading time series file: http://www.bom.gov.au/climate/change/acorn/sat/data/acorn.sat.maxT.058012.daily.txt\n",
      "Adding timeseries ID: 059040\n",
      "Loading time series file: http://www.bom.gov.au/climate/change/acorn/sat/data/acorn.sat.minT.059040.daily.txt\n",
      "Loading time series file: http://www.bom.gov.au/climate/change/acorn/sat/data/acorn.sat.maxT.059040.daily.txt\n",
      "Adding timeseries ID: 060139\n",
      "Loading time series file: http://www.bom.gov.au/climate/change/acorn/sat/data/acorn.sat.minT.060139.daily.txt\n",
      "Loading time series file: http://www.bom.gov.au/climate/change/acorn/sat/data/acorn.sat.maxT.060139.daily.txt\n",
      "Adding timeseries ID: 061078\n",
      "Loading time series file: http://www.bom.gov.au/climate/change/acorn/sat/data/acorn.sat.minT.061078.daily.txt\n",
      "Loading time series file: http://www.bom.gov.au/climate/change/acorn/sat/data/acorn.sat.maxT.061078.daily.txt\n",
      "Adding timeseries ID: 061363\n",
      "Loading time series file: http://www.bom.gov.au/climate/change/acorn/sat/data/acorn.sat.minT.061363.daily.txt\n",
      "Loading time series file: http://www.bom.gov.au/climate/change/acorn/sat/data/acorn.sat.maxT.061363.daily.txt\n",
      "Adding timeseries ID: 063005\n",
      "Loading time series file: http://www.bom.gov.au/climate/change/acorn/sat/data/acorn.sat.minT.063005.daily.txt\n",
      "Loading time series file: http://www.bom.gov.au/climate/change/acorn/sat/data/acorn.sat.maxT.063005.daily.txt\n",
      "Adding timeseries ID: 065070\n",
      "Loading time series file: http://www.bom.gov.au/climate/change/acorn/sat/data/acorn.sat.minT.065070.daily.txt\n",
      "Loading time series file: http://www.bom.gov.au/climate/change/acorn/sat/data/acorn.sat.maxT.065070.daily.txt\n",
      "Adding timeseries ID: 066062\n",
      "Loading time series file: http://www.bom.gov.au/climate/change/acorn/sat/data/acorn.sat.minT.066062.daily.txt\n",
      "Loading time series file: http://www.bom.gov.au/climate/change/acorn/sat/data/acorn.sat.maxT.066062.daily.txt\n",
      "Adding timeseries ID: 067105\n",
      "Loading time series file: http://www.bom.gov.au/climate/change/acorn/sat/data/acorn.sat.minT.067105.daily.txt\n",
      "Loading time series file: http://www.bom.gov.au/climate/change/acorn/sat/data/acorn.sat.maxT.067105.daily.txt\n",
      "Adding timeseries ID: 068072\n",
      "Loading time series file: http://www.bom.gov.au/climate/change/acorn/sat/data/acorn.sat.minT.068072.daily.txt\n",
      "Loading time series file: http://www.bom.gov.au/climate/change/acorn/sat/data/acorn.sat.maxT.068072.daily.txt\n",
      "Adding timeseries ID: 068151\n",
      "Loading time series file: http://www.bom.gov.au/climate/change/acorn/sat/data/acorn.sat.minT.068151.daily.txt\n",
      "Loading time series file: http://www.bom.gov.au/climate/change/acorn/sat/data/acorn.sat.maxT.068151.daily.txt\n",
      "Adding timeseries ID: 069018\n",
      "Loading time series file: http://www.bom.gov.au/climate/change/acorn/sat/data/acorn.sat.minT.069018.daily.txt\n",
      "Loading time series file: http://www.bom.gov.au/climate/change/acorn/sat/data/acorn.sat.maxT.069018.daily.txt\n",
      "Adding timeseries ID: 070351\n",
      "Loading time series file: http://www.bom.gov.au/climate/change/acorn/sat/data/acorn.sat.minT.070351.daily.txt\n",
      "Loading time series file: http://www.bom.gov.au/climate/change/acorn/sat/data/acorn.sat.maxT.070351.daily.txt\n",
      "Adding timeseries ID: 072150\n",
      "Loading time series file: http://www.bom.gov.au/climate/change/acorn/sat/data/acorn.sat.minT.072150.daily.txt\n",
      "Loading time series file: http://www.bom.gov.au/climate/change/acorn/sat/data/acorn.sat.maxT.072150.daily.txt\n",
      "Adding timeseries ID: 072161\n",
      "Loading time series file: http://www.bom.gov.au/climate/change/acorn/sat/data/acorn.sat.minT.072161.daily.txt\n",
      "Loading time series file: http://www.bom.gov.au/climate/change/acorn/sat/data/acorn.sat.maxT.072161.daily.txt\n",
      "Adding timeseries ID: 073054\n",
      "Loading time series file: http://www.bom.gov.au/climate/change/acorn/sat/data/acorn.sat.minT.073054.daily.txt\n",
      "Loading time series file: http://www.bom.gov.au/climate/change/acorn/sat/data/acorn.sat.maxT.073054.daily.txt\n",
      "Adding timeseries ID: 074258\n",
      "Loading time series file: http://www.bom.gov.au/climate/change/acorn/sat/data/acorn.sat.minT.074258.daily.txt\n",
      "Loading time series file: http://www.bom.gov.au/climate/change/acorn/sat/data/acorn.sat.maxT.074258.daily.txt\n",
      "Adding timeseries ID: 076031\n",
      "Loading time series file: http://www.bom.gov.au/climate/change/acorn/sat/data/acorn.sat.minT.076031.daily.txt\n",
      "Loading time series file: http://www.bom.gov.au/climate/change/acorn/sat/data/acorn.sat.maxT.076031.daily.txt\n",
      "Adding timeseries ID: 078015\n",
      "Loading time series file: http://www.bom.gov.au/climate/change/acorn/sat/data/acorn.sat.minT.078015.daily.txt\n",
      "Loading time series file: http://www.bom.gov.au/climate/change/acorn/sat/data/acorn.sat.maxT.078015.daily.txt\n",
      "Adding timeseries ID: 080023\n",
      "Loading time series file: http://www.bom.gov.au/climate/change/acorn/sat/data/acorn.sat.minT.080023.daily.txt\n",
      "Loading time series file: http://www.bom.gov.au/climate/change/acorn/sat/data/acorn.sat.maxT.080023.daily.txt\n",
      "Adding timeseries ID: 082039\n",
      "Loading time series file: http://www.bom.gov.au/climate/change/acorn/sat/data/acorn.sat.minT.082039.daily.txt\n",
      "Loading time series file: http://www.bom.gov.au/climate/change/acorn/sat/data/acorn.sat.maxT.082039.daily.txt\n",
      "Adding timeseries ID: 084016\n",
      "Loading time series file: http://www.bom.gov.au/climate/change/acorn/sat/data/acorn.sat.minT.084016.daily.txt\n",
      "Loading time series file: http://www.bom.gov.au/climate/change/acorn/sat/data/acorn.sat.maxT.084016.daily.txt\n",
      "Adding timeseries ID: 084145\n",
      "Loading time series file: http://www.bom.gov.au/climate/change/acorn/sat/data/acorn.sat.minT.084145.daily.txt\n",
      "Loading time series file: http://www.bom.gov.au/climate/change/acorn/sat/data/acorn.sat.maxT.084145.daily.txt\n",
      "Adding timeseries ID: 085072\n",
      "Loading time series file: http://www.bom.gov.au/climate/change/acorn/sat/data/acorn.sat.minT.085072.daily.txt\n",
      "Loading time series file: http://www.bom.gov.au/climate/change/acorn/sat/data/acorn.sat.maxT.085072.daily.txt\n",
      "Adding timeseries ID: 085096\n",
      "Loading time series file: http://www.bom.gov.au/climate/change/acorn/sat/data/acorn.sat.minT.085096.daily.txt\n",
      "Loading time series file: http://www.bom.gov.au/climate/change/acorn/sat/data/acorn.sat.maxT.085096.daily.txt\n",
      "Adding timeseries ID: 086071\n",
      "Loading time series file: http://www.bom.gov.au/climate/change/acorn/sat/data/acorn.sat.minT.086071.daily.txt\n",
      "Loading time series file: http://www.bom.gov.au/climate/change/acorn/sat/data/acorn.sat.maxT.086071.daily.txt\n",
      "Adding timeseries ID: 087031\n",
      "Loading time series file: http://www.bom.gov.au/climate/change/acorn/sat/data/acorn.sat.minT.087031.daily.txt\n",
      "Loading time series file: http://www.bom.gov.au/climate/change/acorn/sat/data/acorn.sat.maxT.087031.daily.txt\n",
      "Adding timeseries ID: 090015\n",
      "Loading time series file: http://www.bom.gov.au/climate/change/acorn/sat/data/acorn.sat.minT.090015.daily.txt\n",
      "Loading time series file: http://www.bom.gov.au/climate/change/acorn/sat/data/acorn.sat.maxT.090015.daily.txt\n",
      "Adding timeseries ID: 091293\n",
      "Loading time series file: http://www.bom.gov.au/climate/change/acorn/sat/data/acorn.sat.minT.091293.daily.txt\n",
      "Loading time series file: http://www.bom.gov.au/climate/change/acorn/sat/data/acorn.sat.maxT.091293.daily.txt\n",
      "Adding timeseries ID: 091311\n",
      "Loading time series file: http://www.bom.gov.au/climate/change/acorn/sat/data/acorn.sat.minT.091311.daily.txt\n",
      "Loading time series file: http://www.bom.gov.au/climate/change/acorn/sat/data/acorn.sat.maxT.091311.daily.txt\n",
      "Adding timeseries ID: 092045\n",
      "Loading time series file: http://www.bom.gov.au/climate/change/acorn/sat/data/acorn.sat.minT.092045.daily.txt\n",
      "Loading time series file: http://www.bom.gov.au/climate/change/acorn/sat/data/acorn.sat.maxT.092045.daily.txt\n",
      "Adding timeseries ID: 094010\n",
      "Loading time series file: http://www.bom.gov.au/climate/change/acorn/sat/data/acorn.sat.minT.094010.daily.txt\n",
      "Loading time series file: http://www.bom.gov.au/climate/change/acorn/sat/data/acorn.sat.maxT.094010.daily.txt\n",
      "Adding timeseries ID: 094029\n",
      "Loading time series file: http://www.bom.gov.au/climate/change/acorn/sat/data/acorn.sat.minT.094029.daily.txt\n",
      "Loading time series file: http://www.bom.gov.au/climate/change/acorn/sat/data/acorn.sat.maxT.094029.daily.txt\n",
      "Adding timeseries ID: 094220\n",
      "Loading time series file: http://www.bom.gov.au/climate/change/acorn/sat/data/acorn.sat.minT.094220.daily.txt\n",
      "Loading time series file: http://www.bom.gov.au/climate/change/acorn/sat/data/acorn.sat.maxT.094220.daily.txt\n",
      "Adding timeseries ID: 096003\n",
      "Loading time series file: http://www.bom.gov.au/climate/change/acorn/sat/data/acorn.sat.minT.096003.daily.txt\n",
      "Loading time series file: http://www.bom.gov.au/climate/change/acorn/sat/data/acorn.sat.maxT.096003.daily.txt\n"
     ]
    }
   ],
   "source": [
    "for station_id in station_list['station_id']:\n",
    "    print(\"Adding timeseries ID: {0}\".format(station_id))\n",
    "    db.add_timeseries(station_id)\n",
    "\n",
    "    for variable in ['minT', 'maxT']:\n",
    "        input_url = 'http://www.bom.gov.au/climate/change/acorn/sat/data/acorn.sat.{0}.{1}.daily.txt'.format(\n",
    "            variable,\n",
    "            station_id\n",
    "        )\n",
    "\n",
    "        print('Loading time series file: {0}'.format(input_url))\n",
    "        df = pd.read_csv(\n",
    "            input_url,\n",
    "            parse_dates = [0],\n",
    "            index_col = 0,\n",
    "            header = None,\n",
    "            skiprows = 1,\n",
    "            sep = r\"\\s+\",\n",
    "            na_values = '99999.9',\n",
    "            names = ['Date', variable]\n",
    "        )\n",
    "\n",
    "        db.add_timeseries_instance(station_id, frequency, 'ACORN-SAT', measurand = variable, source = source)\n",
    "        db.write(station_id, frequency, df[variable], measurand = variable, source = source)"
   ]
  },
  {
   "cell_type": "markdown",
   "metadata": {},
   "source": [
    "Calculate Annual mean temperature anomalies for Australia\n",
    "==\n",
    "In this section we will attempt to reproduce the \"Annual mean temperature anomalies for Australia\" plot as seen here:\n",
    "![Annual mean temperature anomalies for Australia](http://www.bom.gov.au/climate/change/acorn-sat/images/trend-graph.png)\n",
    "Source: http://www.bom.gov.au/climate/change/acorn-sat/images/trend-graph.png\n",
    "\n",
    "Collect data\n",
    "--\n",
    "Read in all the daily maximum and minimum temperature series for the 1910 to 2014 period:"
   ]
  },
  {
   "cell_type": "code",
   "execution_count": 7,
   "metadata": {
    "collapsed": false
   },
   "outputs": [
    {
     "name": "stdout",
     "output_type": "stream",
     "text": [
      "CPU times: user 2.85 s, sys: 160 ms, total: 3.01 s\n",
      "Wall time: 3.06 s\n",
      "CPU times: user 2.88 s, sys: 142 ms, total: 3.03 s\n",
      "Wall time: 3.08 s\n"
     ]
    }
   ],
   "source": [
    "%time daily_max_t = db.read_all('D', measurand = 'maxT', source = 'BOM_ACORN_SAT').ix['1910':'2014']\n",
    "%time daily_min_t = db.read_all('D', measurand = 'minT', source = 'BOM_ACORN_SAT').ix['1910':'2014']"
   ]
  },
  {
   "cell_type": "markdown",
   "metadata": {},
   "source": [
    "Calculate daily mean temperatures\n",
    "--"
   ]
  },
  {
   "cell_type": "code",
   "execution_count": 8,
   "metadata": {
    "collapsed": false
   },
   "outputs": [
    {
     "name": "stdout",
     "output_type": "stream",
     "text": [
      "CPU times: user 45 ms, sys: 29 ms, total: 74 ms\n",
      "Wall time: 65.6 ms\n"
     ]
    }
   ],
   "source": [
    "%time daily_mean_t = (daily_max_t + daily_min_t) / 2"
   ]
  },
  {
   "cell_type": "markdown",
   "metadata": {},
   "source": [
    "Define a filter method\n",
    "--\n",
    "This filter method is used to calculate the annual mean where more than 350 days are available. A nan is returned when less than 350 days of data are available, this prevents the calculation of a mean based of a small amount of data."
   ]
  },
  {
   "cell_type": "code",
   "execution_count": 9,
   "metadata": {
    "collapsed": true
   },
   "outputs": [],
   "source": [
    "def incomplete_year_filter(ts):\n",
    "    if len(ts.dropna()) > 350:\n",
    "        return np.mean(ts)\n",
    "    else:\n",
    "        return np.nan"
   ]
  },
  {
   "cell_type": "markdown",
   "metadata": {},
   "source": [
    "Resample to annual means\n",
    "--\n",
    "Here we resample to annual means using the incomplete_year_filter method we defined earlier"
   ]
  },
  {
   "cell_type": "code",
   "execution_count": 10,
   "metadata": {
    "collapsed": false
   },
   "outputs": [],
   "source": [
    "annual_mean_t = daily_mean_t.resample('AS', how = incomplete_year_filter)"
   ]
  },
  {
   "cell_type": "markdown",
   "metadata": {},
   "source": [
    "Calculate anomalies\n",
    "--\n",
    "Anomalies are calculated as departures are from the 1961--1990 average. Therefore we first calculate the 1961 to 1990 mean for all stations. Then we subtract that baseline from the entire record for all stations. Before finally taking the mean of each year across all stations."
   ]
  },
  {
   "cell_type": "code",
   "execution_count": 11,
   "metadata": {
    "collapsed": true
   },
   "outputs": [],
   "source": [
    "baseline = annual_mean_t.ix['1961':'1990'].mean()\n",
    "all_anomalies = annual_mean_t - baseline\n",
    "australian_mean_annual_temperature_anomalies = all_anomalies.mean(axis = 1)"
   ]
  },
  {
   "cell_type": "markdown",
   "metadata": {},
   "source": [
    "Visualise the results\n",
    "--\n",
    "Now we plot the results applying some styles and a rolling mean to be similar to the Bureau of Meterology plot linked earlier."
   ]
  },
  {
   "cell_type": "code",
   "execution_count": 12,
   "metadata": {
    "collapsed": false
   },
   "outputs": [
    {
     "data": {
      "text/plain": [
       "<matplotlib.text.Text at 0x7f785d014710>"
      ]
     },
     "execution_count": 13,
     "metadata": {},
     "output_type": "execute_result"
    },
    {
     "data": {
      "image/png": "[encoded data removed]",
      "text/plain": [
       "<matplotlib.figure.Figure at 0x7f785d1a4b90>"
      ]
     },
     "metadata": {},
     "output_type": "display_data"
    }
   ],
   "source": [
    "pd.rolling_mean(australian_mean_annual_temperature_anomalies, 10, center = True).plot(color = '#adaaa7', linewidth=2)\n",
    "australian_mean_annual_temperature_anomalies.plot(color = '#ba0303', linewidth=3, figsize=(10, 8), grid = True)\n",
    "\n",
    "# Horizontal black line at 0\n",
    "plt.axhline(0, color='k')\n",
    "\n",
    "# Set ylimit to match Bureau graph\n",
    "plt.ylim((-1.25, 1.5))\n",
    "\n",
    "# Set yticks to match Bureau graph\n",
    "plt.yticks(np.arange(-1.25, 1.5, 0.25))\n",
    "\n",
    "# Set xticks to have years at 10 year intervals like the Bureau graph\n",
    "x_dates = pd.date_range('1910', '2010', freq = '10AS')\n",
    "plt.xticks(x_dates, x_dates.year)\n",
    "\n",
    "# Add title ylabel and caption\n",
    "plt.title('Annual mean temperature anomalies for Australia')\n",
    "plt.ylabel('Australian annual mean temperature anomaly ($^\\circ$C)')\n",
    "plt.figtext(.1,0, 'Differences in methods has given slightly different results compared to the offical Bureau of Meterology plot.\\nFigure based on data from the Bureau of Meterology, see official source: http://www.bom.gov.au/climate/change/acorn-sat/')"
   ]
  },
  {
   "cell_type": "markdown",
   "metadata": {},
   "source": [
    "Note that while the final figure is close to the original, differences in calculation of anomalies or possibly differences in data used for the original vs currently available data has yielded slightly different results."
   ]
  },
  {
   "cell_type": "code",
   "execution_count": null,
   "metadata": {
    "collapsed": true
   },
   "outputs": [],
   "source": []
  }
 ],
 "metadata": {
  "kernelspec": {
   "display_name": "Python 2",
   "language": "python",
   "name": "python2"
  },
  "language_info": {
   "codemirror_mode": {
    "name": "ipython",
    "version": 2
   },
   "file_extension": ".py",
   "mimetype": "text/x-python",
   "name": "python",
   "nbconvert_exporter": "python",
   "pygments_lexer": "ipython2",
   "version": "2.7.11"
  }
 },
 "nbformat": 4,
 "nbformat_minor": 0
}
