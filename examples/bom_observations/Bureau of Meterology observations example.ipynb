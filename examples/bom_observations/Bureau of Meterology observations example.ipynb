{
 "cells": [
  {
   "cell_type": "markdown",
   "metadata": {},
   "source": [
    "Create a new PhilDB database\n",
    "--\n",
    "\n",
    "The next snippet imports some PhilDB exceptions and classes before showing how to create a PhilDB database using the create method. Alternate to the below code the commandline phil-create method could be used (e.g `phil-create bom_db`)."
   ]
  },
  {
   "cell_type": "code",
   "execution_count": 1,
   "metadata": {
    "collapsed": false
   },
   "outputs": [],
   "source": [
    "from phildb.create import create\n",
    "from phildb.exceptions import AlreadyExistsError, DuplicateError\n",
    "from phildb.database import PhilDB\n",
    "\n",
    "try:\n",
    "    create('bom_db')\n",
    "except AlreadyExistsError:\n",
    "    pass # Database already exists, so no creation required."
   ]
  },
  {
   "cell_type": "code",
   "execution_count": 2,
   "metadata": {
    "collapsed": true
   },
   "outputs": [],
   "source": [
    "db = PhilDB('bom_db')"
   ]
  },
  {
   "cell_type": "markdown",
   "metadata": {},
   "source": [
    "The below method parses the JSON data from the Bureau of Meterology into a Pandas Series:"
   ]
  },
  {
   "cell_type": "code",
   "execution_count": 3,
   "metadata": {
    "collapsed": true
   },
   "outputs": [],
   "source": [
    "import pandas as pd\n",
    "import datetime\n",
    "\n",
    "def parse(station_json, measurand):\n",
    "    dates = []\n",
    "    data = []\n",
    "    for ob in station_json['observations']['data']:\n",
    "        the_date = datetime.datetime.strptime(ob['aifstime_utc'], '%Y%m%d%H%M%S')\n",
    "        if the_date.minute == 0 or the_date.minute == 30:\n",
    "            dates.append(the_date)\n",
    "            data.append(ob[measurand])\n",
    "    dates.reverse()\n",
    "    data.reverse()\n",
    "\n",
    "    station_id = station_json['observations']['header'][0]['ID']\n",
    "                                                                                 \n",
    "    return station_id, pd.Series(data, dates)                                                                                \n"
   ]
  },
  {
   "cell_type": "markdown",
   "metadata": {},
   "source": [
    "## Configure database\n",
    "Define the measurand we are storing along with source and frequency"
   ]
  },
  {
   "cell_type": "code",
   "execution_count": 4,
   "metadata": {
    "collapsed": false
   },
   "outputs": [],
   "source": [
    "measurand = 'air_temp'\n",
    "source = 'BOM_OBS'\n",
    "freq = '30min'\n",
    "\n",
    "try:\n",
    "    db.add_measurand(measurand, measurand, 'Air Temperature')\n",
    "except DuplicateError:\n",
    "    pass # DuplicateError means the measurand already existed so no work needs to be done.\n",
    "\n",
    "try:\n",
    "    db.add_source('BOM_OBS', 'Australian Bureau of Meteorology Observations')\n",
    "except DuplicateError:\n",
    "    pass # DuplicateError means the source already existed so no work needs to be done.   "
   ]
  },
  {
   "cell_type": "markdown",
   "metadata": {},
   "source": [
    "## Fetch data\n",
    "Using Python requests we can get the JSON data to parse for the time series data and station ID:"
   ]
  },
  {
   "cell_type": "code",
   "execution_count": 5,
   "metadata": {
    "collapsed": true
   },
   "outputs": [],
   "source": [
    "import requests\n",
    "\n",
    "json_data = requests.get('http://www.bom.gov.au/fwo/IDN60901/IDN60901.94767.json').json()\n",
    "station_id, data = parse(json_data, measurand)"
   ]
  },
  {
   "cell_type": "markdown",
   "metadata": {},
   "source": [
    "## Create/load data\n",
    "Add the timeseries and timeseries_instance if required before loading the data:"
   ]
  },
  {
   "cell_type": "code",
   "execution_count": 6,
   "metadata": {
    "collapsed": true
   },
   "outputs": [],
   "source": [
    "try:\n",
    "    db.add_timeseries(station_id)\n",
    "except DuplicateError:\n",
    "    pass # DuplicateError means the ID already existed so no work needs to be done.\n",
    "\n",
    "try:\n",
    "    db.add_timeseries_instance(station_id, freq, 'None', measurand = measurand, source = source)\n",
    "except DuplicateError:\n",
    "    pass # DuplicateError means the timeseries instance already existed so no work needs to be done.\n",
    "\n",
    "db.write(station_id, freq, data, measurand = measurand, source = source)"
   ]
  },
  {
   "cell_type": "markdown",
   "metadata": {},
   "source": [
    "## Read and plot\n",
    "Here we read and plot the data we just loaded:"
   ]
  },
  {
   "cell_type": "code",
   "execution_count": 7,
   "metadata": {
    "collapsed": false
   },
   "outputs": [
    {
     "data": {
      "text/plain": [
       "<matplotlib.text.Text at 0x7f9e3874cd50>"
      ]
     },
     "execution_count": 7,
     "metadata": {},
     "output_type": "execute_result"
    },
    {
     "data": {
      "image/png": "[encoded data removed]",
      "text/plain": [
       "<matplotlib.figure.Figure at 0x7f9e3a5eead0>"
      ]
     },
     "metadata": {},
     "output_type": "display_data"
    }
   ],
   "source": [
    "%matplotlib inline\n",
    "ax = db.read(station_id, '30min').plot()\n",
    "ax.set_title(station_id)"
   ]
  },
  {
   "cell_type": "code",
   "execution_count": null,
   "metadata": {
    "collapsed": true
   },
   "outputs": [],
   "source": []
  }
 ],
 "metadata": {
  "kernelspec": {
   "display_name": "Python 2",
   "language": "python",
   "name": "python2"
  },
  "language_info": {
   "codemirror_mode": {
    "name": "ipython",
    "version": 2
   },
   "file_extension": ".py",
   "mimetype": "text/x-python",
   "name": "python",
   "nbconvert_exporter": "python",
   "pygments_lexer": "ipython2",
   "version": "2.7.11"
  }
 },
 "nbformat": 4,
 "nbformat_minor": 0
}
