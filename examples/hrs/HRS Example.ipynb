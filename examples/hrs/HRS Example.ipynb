{
 "cells": [
  {
   "cell_type": "markdown",
   "metadata": {},
   "source": [
    "Hydrological Reference Stations (HRS) Example\n",
    "==\n",
    "This notebook demonstrates loading time series data into a PhilDB instance.\n",
    "It shows an example of adding timeseries, measurand, and source to the database before loading the time series data as time series instances.\n",
    "\n",
    "All instructions in this notebook are relative to the examples/hrs/ directory of the phildb project.\n",
    "\n",
    "Before running the code the HRS data set needs to be downloaded:"
   ]
  },
  {
   "cell_type": "code",
   "execution_count": 1,
   "metadata": {
    "collapsed": false
   },
   "outputs": [],
   "source": [
    "import os\n",
    "import requests\n",
    "\n",
    "os.mkdir('hrs_data')\n",
    "\n",
    "r = requests.get('http://www.bom.gov.au/water/hrs/content/config/site_config.json')\n",
    "hrs_metadata = r.json()\n",
    "\n",
    "for station in hrs_metadata['stations']['features']:\n",
    "    station_id = station['properties']['AWRC_ID']\n",
    "    filename = '{0}_daily_ts.csv'.format(station_id)\n",
    "\n",
    "    url = \"http://www.bom.gov.au/water/hrs/content/data/{0}/{1}\".format(station_id, filename)\n",
    "\n",
    "    #print(\"Downloading: {0}\".format(url))\n",
    "    \n",
    "    csv_response = requests.get(url)\n",
    "    with open(os.path.join('hrs_data', filename), 'w') as f:\n",
    "        f.write(csv_response.text)\n",
    "        "
   ]
  },
  {
   "cell_type": "markdown",
   "metadata": {},
   "source": [
    "Now that we have the data we can do some standard imports:"
   ]
  },
  {
   "cell_type": "code",
   "execution_count": 2,
   "metadata": {
    "collapsed": true
   },
   "outputs": [],
   "source": [
    "import os\n",
    "import datetime\n",
    "import pandas as pd"
   ]
  },
  {
   "cell_type": "markdown",
   "metadata": {},
   "source": [
    "Create a new PhilDB database\n",
    "--\n",
    "\n",
    "The next snippet shows how to create a PhilDB database using the create method. Alternate to the below code the commandline phil-create method could be used (e.g `phil-create hrs_db`)."
   ]
  },
  {
   "cell_type": "code",
   "execution_count": 3,
   "metadata": {
    "collapsed": false
   },
   "outputs": [],
   "source": [
    "from phildb.create import create\n",
    "create('hrs_db')"
   ]
  },
  {
   "cell_type": "markdown",
   "metadata": {},
   "source": [
    "Accessing a PhilDB instance\n",
    "--\n",
    "\n",
    "Once a PhilDB database has been created it can be accessed using the PhilDB database class. Which after being imported can be used to create a database instance (which is stored in the 'db' variable here) as follows:"
   ]
  },
  {
   "cell_type": "code",
   "execution_count": 4,
   "metadata": {
    "collapsed": true
   },
   "outputs": [],
   "source": [
    "from phildb.database import PhilDB\n",
    "db = PhilDB('hrs_db')"
   ]
  },
  {
   "cell_type": "markdown",
   "metadata": {},
   "source": [
    "Initialise source and measurand attributes\n",
    "--\n",
    "\n",
    "Now that we have created and connected to the 'hrs_db' we can initialise source and measurand attributes for identifying HRS time series instances."
   ]
  },
  {
   "cell_type": "code",
   "execution_count": 5,
   "metadata": {
    "collapsed": false
   },
   "outputs": [],
   "source": [
    "db.add_measurand('Q', 'STREAMFLOW', 'Streamflow')\n",
    "db.add_source('BOM_HRS', 'Bureau of Meteorology; Hydrological Reference Stations dataset.')"
   ]
  },
  {
   "cell_type": "markdown",
   "metadata": {},
   "source": [
    "Set a frequency variable `freq` to 'D' to indicate daily data and a hrs_header_len variable so that the 18 lines of header in the CSV can be handled later:"
   ]
  },
  {
   "cell_type": "code",
   "execution_count": 6,
   "metadata": {
    "collapsed": true
   },
   "outputs": [],
   "source": [
    "freq = 'D'\n",
    "hrs_header_len = 26"
   ]
  },
  {
   "cell_type": "markdown",
   "metadata": {},
   "source": [
    "Create a function for reading HRS data into a pandas DataFrame (this is to simplify the for loop doing the actual data loading):"
   ]
  },
  {
   "cell_type": "code",
   "execution_count": 7,
   "metadata": {
    "collapsed": false
   },
   "outputs": [],
   "source": [
    "def read_hrs_series(filename):\n",
    "    with open(filename) as datafile:\n",
    "        header=[next(datafile) for x in range(hrs_header_len)]\n",
    "        header = ''.join(header)\n",
    "        df = pd.read_csv(filename, parse_dates=True, index_col='Date', skiprows=hrs_header_len)\n",
    "\n",
    "        return header, df['Flow (ML)']"
   ]
  },
  {
   "cell_type": "markdown",
   "metadata": {},
   "source": [
    "Get a list of csv files from the hrs_data directory:"
   ]
  },
  {
   "cell_type": "code",
   "execution_count": 8,
   "metadata": {
    "collapsed": false
   },
   "outputs": [],
   "source": [
    "datafiles = [ f for f in os.listdir('hrs_data') if f.endswith('_daily_ts.csv')]"
   ]
  },
  {
   "cell_type": "code",
   "execution_count": 9,
   "metadata": {
    "collapsed": false
   },
   "outputs": [],
   "source": [
    "for filename in datafiles:\n",
    "    #print(\"Processing file: \", filename, '...')\n",
    "    station_id = filename.split('_')[0]\n",
    "    #print(\"Using station ID: \", station_id, '...')\n",
    "\n",
    "    header, streamflow = read_hrs_series(os.path.join('hrs_data', filename))\n",
    "    db.add_timeseries(station_id)\n",
    "    db.add_timeseries_instance(station_id, freq, header, measurand = 'Q', source= 'BOM_HRS')\n",
    "    db.write(station_id, freq, streamflow, measurand = 'Q', source = 'BOM_HRS')"
   ]
  },
  {
   "cell_type": "markdown",
   "metadata": {
    "collapsed": true
   },
   "source": [
    "Open the newly created PhilDB for interactive exploration:\n",
    "\n",
    "    phil hrs_db\n",
    "\n",
    "An example script, autocorr.py, shows how access to a PhilDB instance\n",
    "can be automated to perform analysis on the data. This script for example\n",
    "iterates over all of the available streamflow timeseries instances for the\n",
    "BOM_HRS dataset and invokes the pandas autocorr function. Stations with\n",
    "auto-correlation results greater than or equal to 0.95 are then printed.\n",
    "\n",
    "The script can be run with:\n",
    "\n",
    "    python autocorr.py hrs_db\n",
    "\n",
    "Such analysis could be performed from the interactive phil shell as well."
   ]
  }
 ],
 "metadata": {
  "kernelspec": {
   "display_name": "Python 2",
   "language": "python",
   "name": "python2"
  },
  "language_info": {
   "codemirror_mode": {
    "name": "ipython",
    "version": 2
   },
   "file_extension": ".py",
   "mimetype": "text/x-python",
   "name": "python",
   "nbconvert_exporter": "python",
   "pygments_lexer": "ipython2",
   "version": "2.7.11"
  }
 },
 "nbformat": 4,
 "nbformat_minor": 0
}
